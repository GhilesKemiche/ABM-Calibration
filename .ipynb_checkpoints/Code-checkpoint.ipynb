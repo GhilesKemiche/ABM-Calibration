{
 "cells": [
  {
   "cell_type": "code",
   "execution_count": 57,
   "metadata": {},
   "outputs": [],
   "source": [
    "import numpy as np\n",
    "import matplotlib.pyplot as plt\n",
    "from scipy.stats import differential_entropy,kurtosis\n",
    "import pandas as pd\n",
    "from scipy.optimize import minimize"
   ]
  },
  {
   "cell_type": "code",
   "execution_count": 28,
   "metadata": {},
   "outputs": [],
   "source": [
    "def Majew(gamma, alpha, kappa1, beta, Lambda, sigmav, length = 1000, nb = 1 ):\n",
    "    #nb : nb de simulations\n",
    "    # length : taille de la serie temporelle\n",
    "    Epsilon=np.random.normal(0, sigmav**2, (length,nb))\n",
    "    v=np.zeros((length,nb))\n",
    "    m=np.zeros((length,nb))\n",
    "    \n",
    "    # We initialize the different functions we will need\n",
    "    \n",
    "    p=np.zeros((length,nb))\n",
    "    r=np.zeros((length,nb))\n",
    "    p[0] = 200\n",
    "    # We initialize the price\n",
    "    \n",
    "    for t in range(1,length-1):\n",
    "        \n",
    "        v[t] = (1-Lambda)*v[t-1] + Lambda*p[t]\n",
    "        \n",
    "        m[t] = (1-alpha)*m[t-1] + alpha*(p[t]-p[t-1])\n",
    "        \n",
    "        p[t+1] = p[t] + kappa1*(v[t]-p[t]) + beta*np.tanh(gamma*m[t]) + Epsilon[t+1]\n",
    "        \n",
    "        r[t+1] = p[t+1] - p[t]\n",
    "    \n",
    "    return p,r"
   ]
  },
  {
   "cell_type": "code",
   "execution_count": 54,
   "metadata": {},
   "outputs": [],
   "source": [
    "def compute_statistics(r, cov=False):\n",
    "    means = np.mean(r, axis=0)\n",
    "    std_dev = np.std(r, axis=0)\n",
    "    entropy = differential_entropy(r, axis = 0)\n",
    "    kurtosiss = kurtosis(r, axis=0)\n",
    "    \n",
    "    q1 = np.percentile(r, 25, axis=0)\n",
    "    q2 = np.percentile(r, 50, axis=0)\n",
    "    q3 = np.percentile(r, 75, axis=0)\n",
    "    \n",
    "    \n",
    "    if cov:\n",
    "        mf = np.vstack([means, std_dev, entropy, kurtosiss, q1, q2, q3])\n",
    "        W = np.cov(mf)\n",
    "        \n",
    "        return np.array([np.mean(means), np.mean(std_dev), np.mean(entropy), np.mean(kurtosiss), np.mean(q1), np.mean(q2), np.mean(q3)]), W\n",
    "    \n",
    "    return np.array([np.mean(means), np.mean(std_dev), np.mean(entropy), np.mean(kurtosiss), np.mean(q1), np.mean(q2), np.mean(q3)])\n",
    "\n"
   ]
  },
  {
   "cell_type": "code",
   "execution_count": 51,
   "metadata": {},
   "outputs": [
    {
     "data": {
      "text/plain": [
       "array([-2.06801503e-01,  1.24019656e+00, -5.15502423e+00,  7.00151898e+01,\n",
       "       -3.79663509e-04, -6.85295933e-05,  1.84073896e-04])"
      ]
     },
     "execution_count": 51,
     "metadata": {},
     "output_type": "execute_result"
    }
   ],
   "source": [
    "_, r_thild = Majew(0.015,1/7,0.015,36.7,0.2,0.018)\n",
    "c_thilde = compute_statistics(r_thild)\n",
    "c_thilde"
   ]
  },
  {
   "cell_type": "code",
   "execution_count": 55,
   "metadata": {},
   "outputs": [],
   "source": [
    "def cost(ksi):\n",
    "    _, r = Majew(*ksi, nb = 100)\n",
    "    cabm, V = compute_statistics(r, cov=True)\n",
    "    dc = c_thilde - cabm\n",
    "    W = np.linalg.inv(V)\n",
    "    D = dc.T @ W @ dc\n",
    "    return D"
   ]
  },
  {
   "cell_type": "code",
   "execution_count": null,
   "metadata": {},
   "outputs": [],
   "source": [
    "options = {\n",
    "    'maxiter': 10000,     # Maximum number of iterations        # Precision goal for the function value\n",
    "    'tol': 1e-19,         # Precision goal for the gradient\n",
    "    'disp': True          # Display convergence messages\n",
    "}\n",
    "init = (0.20,1/15,0.40,20.7,0.4,0.2)\n",
    "res = minimize(cost, init, method='Nelder-Mead', options=options)"
   ]
  },
  {
   "cell_type": "code",
   "execution_count": null,
   "metadata": {},
   "outputs": [],
   "source": [
    "res"
   ]
  },
  {
   "cell_type": "code",
   "execution_count": 363,
   "metadata": {},
   "outputs": [],
   "source": [
    "def Majew2(gamma, alpha, kappa1, kappa3, beta, Lambda, sigmav):\n",
    "    \n",
    "    Epsilon=np.random.normal(0, sigmav**2, (length,nb))\n",
    "    v=np.zeros((length,nb))\n",
    "    m=np.zeros((length,nb))\n",
    "    \n",
    "    # We initialize the different functions we will need\n",
    "    \n",
    "    p=np.zeros((length,nb))\n",
    "    r=np.zeros((length,nb))\n",
    "    \n",
    "    # We initialize the price\n",
    "    \n",
    "    for t in range(1,length-1):\n",
    "        \n",
    "        v[t] = (1-Lambda)*v[t-1] + Lambda*p[t]\n",
    "        \n",
    "        m[t] = (1-alpha)*m[t-1] + alpha*(p[t]-p[t-1])\n",
    "        \n",
    "        p[t+1] = p[t] + kappa1*(v[t]-p[t]) + kappa3*(v[t]-p[t]) + beta*np.tanh(gamma*m[t]) + Epsilon[t+1]\n",
    "        \n",
    "        r[t+1] = p[t+1] - p[t]\n",
    "    \n",
    "    return p,r"
   ]
  }
 ],
 "metadata": {
  "kernelspec": {
   "display_name": "Python 3 (ipykernel)",
   "language": "python",
   "name": "python3"
  },
  "language_info": {
   "codemirror_mode": {
    "name": "ipython",
    "version": 3
   },
   "file_extension": ".py",
   "mimetype": "text/x-python",
   "name": "python",
   "nbconvert_exporter": "python",
   "pygments_lexer": "ipython3",
   "version": "3.12.2"
  }
 },
 "nbformat": 4,
 "nbformat_minor": 4
}
