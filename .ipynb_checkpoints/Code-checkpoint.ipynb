{
 "cells": [
  {
   "cell_type": "code",
   "execution_count": 18,
   "metadata": {},
   "outputs": [],
   "source": [
    "import numpy as np\n",
    "import matplotlib.pyplot as plt\n",
    "from scipy.stats import differential_entropy,kurtosis\n",
    "import pandas as pd\n",
    "from scipy.optimize import minimize\n",
    "import numba  "
   ]
  },
  {
   "cell_type": "code",
   "execution_count": 19,
   "metadata": {},
   "outputs": [],
   "source": [
    "\n",
    "def Majew(gamma, alpha, kappa1, beta, Lambda, sigmav, length = 1000, nb = 1 ):\n",
    "    #nb : nb de simulations\n",
    "    # length : taille de la serie temporelle\n",
    "    Epsilon=np.random.normal(0, sigmav**2, (length,nb))\n",
    "    v=np.zeros((length,nb))\n",
    "    m=np.zeros((length,nb))\n",
    "    \n",
    "    # We initialize the different functions we will need\n",
    "    \n",
    "    p=np.zeros((length,nb))\n",
    "    r=np.zeros((length,nb))\n",
    "    p[0] = 200\n",
    "    # We initialize the price\n",
    "    \n",
    "    for t in range(1,length-1):\n",
    "        \n",
    "        v[t] = (1-Lambda)*v[t-1] + Lambda*p[t]\n",
    "        \n",
    "        m[t] = (1-alpha)*m[t-1] + alpha*(p[t]-p[t-1])\n",
    "        \n",
    "        p[t+1] = p[t] + kappa1*(v[t]-p[t]) + beta*np.tanh(gamma*m[t]) + Epsilon[t+1]\n",
    "        \n",
    "        r[t+1] = p[t+1] - p[t]\n",
    "    \n",
    "    return p,r"
   ]
  },
  {
   "cell_type": "code",
   "execution_count": 20,
   "metadata": {},
   "outputs": [],
   "source": [
    "\n",
    "def compute_statistics(r, cov=False):\n",
    "    means = np.mean(r, axis=0)\n",
    "    std_dev = np.std(r, axis=0)\n",
    "    entropy = differential_entropy(r, axis = 0)\n",
    "    kurtosiss = kurtosis(r, axis=0)\n",
    "    \n",
    "    q1 = np.percentile(r, 25, axis=0)\n",
    "    q2 = np.percentile(r, 50, axis=0)\n",
    "    q3 = np.percentile(r, 75, axis=0)\n",
    "    \n",
    "    \n",
    "    if cov:\n",
    "        mf = np.vstack([means, std_dev, entropy, kurtosiss, q1, q2, q3])\n",
    "        W = np.cov(mf)\n",
    "        \n",
    "        return np.array([np.mean(means), np.mean(std_dev), np.mean(entropy), np.mean(kurtosiss), np.mean(q1), np.mean(q2), np.mean(q3)]), W\n",
    "    \n",
    "    return np.array([np.mean(means), np.mean(std_dev), np.mean(entropy), np.mean(kurtosiss), np.mean(q1), np.mean(q2), np.mean(q3)])\n",
    "\n"
   ]
  },
  {
   "cell_type": "code",
   "execution_count": 25,
   "metadata": {},
   "outputs": [
    {
     "data": {
      "text/plain": [
       "array([-2.06822807e-01,  1.24020453e+00, -5.19309903e+00,  7.00142178e+01,\n",
       "       -3.96268160e-04, -8.53057514e-05,  1.63326724e-04])"
      ]
     },
     "execution_count": 25,
     "metadata": {},
     "output_type": "execute_result"
    },
    {
     "data": {
      "image/png": "[encoded data removed]",
      "text/plain": [
       "<Figure size 640x480 with 1 Axes>"
      ]
     },
     "metadata": {},
     "output_type": "display_data"
    }
   ],
   "source": [
    "_, r_thild = Majew(0.015,1/7,0.015,36.7,0.2,0.018)\n",
    "plt.plot(r_thild)\n",
    "c_thilde = compute_statistics(r_thild)\n",
    "c_thilde"
   ]
  },
  {
   "cell_type": "code",
   "execution_count": 22,
   "metadata": {},
   "outputs": [],
   "source": [
    "\n",
    "def cost(ksi):\n",
    "    _, r = Majew(*ksi, nb = 100)\n",
    "    cabm, V = compute_statistics(r, cov=True)\n",
    "    dc = c_thilde - cabm\n",
    "    W = np.linalg.inv(V)\n",
    "    D = dc.T @ W @ dc\n",
    "    return D"
   ]
  },
  {
   "cell_type": "code",
   "execution_count": 23,
   "metadata": {},
   "outputs": [
    {
     "name": "stderr",
     "output_type": "stream",
     "text": [
      "C:\\Users\\Périg\\AppData\\Local\\Temp\\ipykernel_12160\\1004371865.py:7: OptimizeWarning: Unknown solver options: tol\n",
      "  res = minimize(cost, init, method='Nelder-Mead', options=options)\n"
     ]
    },
    {
     "ename": "KeyboardInterrupt",
     "evalue": "",
     "output_type": "error",
     "traceback": [
      "\u001b[1;31m---------------------------------------------------------------------------\u001b[0m",
      "\u001b[1;31mKeyboardInterrupt\u001b[0m                         Traceback (most recent call last)",
      "Cell \u001b[1;32mIn[23], line 7\u001b[0m\n\u001b[0;32m      1\u001b[0m options \u001b[38;5;241m=\u001b[39m {\n\u001b[0;32m      2\u001b[0m     \u001b[38;5;124m'\u001b[39m\u001b[38;5;124mmaxiter\u001b[39m\u001b[38;5;124m'\u001b[39m: \u001b[38;5;241m10000\u001b[39m,     \u001b[38;5;66;03m# Maximum number of iterations        # Precision goal for the function value\u001b[39;00m\n\u001b[0;32m      3\u001b[0m     \u001b[38;5;124m'\u001b[39m\u001b[38;5;124mtol\u001b[39m\u001b[38;5;124m'\u001b[39m: \u001b[38;5;241m1e-19\u001b[39m,         \u001b[38;5;66;03m# Precision goal for the gradient\u001b[39;00m\n\u001b[0;32m      4\u001b[0m     \u001b[38;5;124m'\u001b[39m\u001b[38;5;124mdisp\u001b[39m\u001b[38;5;124m'\u001b[39m: \u001b[38;5;28;01mTrue\u001b[39;00m          \u001b[38;5;66;03m# Display convergence messages\u001b[39;00m\n\u001b[0;32m      5\u001b[0m }\n\u001b[0;32m      6\u001b[0m init \u001b[38;5;241m=\u001b[39m (\u001b[38;5;241m0.20\u001b[39m,\u001b[38;5;241m1\u001b[39m\u001b[38;5;241m/\u001b[39m\u001b[38;5;241m15\u001b[39m,\u001b[38;5;241m0.40\u001b[39m,\u001b[38;5;241m20.7\u001b[39m,\u001b[38;5;241m0.4\u001b[39m,\u001b[38;5;241m0.2\u001b[39m)\n\u001b[1;32m----> 7\u001b[0m res \u001b[38;5;241m=\u001b[39m \u001b[43mminimize\u001b[49m\u001b[43m(\u001b[49m\u001b[43mcost\u001b[49m\u001b[43m,\u001b[49m\u001b[43m \u001b[49m\u001b[43minit\u001b[49m\u001b[43m,\u001b[49m\u001b[43m \u001b[49m\u001b[43mmethod\u001b[49m\u001b[38;5;241;43m=\u001b[39;49m\u001b[38;5;124;43m'\u001b[39;49m\u001b[38;5;124;43mNelder-Mead\u001b[39;49m\u001b[38;5;124;43m'\u001b[39;49m\u001b[43m,\u001b[49m\u001b[43m \u001b[49m\u001b[43moptions\u001b[49m\u001b[38;5;241;43m=\u001b[39;49m\u001b[43moptions\u001b[49m\u001b[43m)\u001b[49m\n",
      "File \u001b[1;32m~\\AppData\\Roaming\\Python\\Python39\\site-packages\\scipy\\optimize\\_minimize.py:698\u001b[0m, in \u001b[0;36mminimize\u001b[1;34m(fun, x0, args, method, jac, hess, hessp, bounds, constraints, tol, callback, options)\u001b[0m\n\u001b[0;32m    695\u001b[0m callback \u001b[38;5;241m=\u001b[39m _wrap_callback(callback, meth)\n\u001b[0;32m    697\u001b[0m \u001b[38;5;28;01mif\u001b[39;00m meth \u001b[38;5;241m==\u001b[39m \u001b[38;5;124m'\u001b[39m\u001b[38;5;124mnelder-mead\u001b[39m\u001b[38;5;124m'\u001b[39m:\n\u001b[1;32m--> 698\u001b[0m     res \u001b[38;5;241m=\u001b[39m _minimize_neldermead(fun, x0, args, callback, bounds\u001b[38;5;241m=\u001b[39mbounds,\n\u001b[0;32m    699\u001b[0m                                \u001b[38;5;241m*\u001b[39m\u001b[38;5;241m*\u001b[39moptions)\n\u001b[0;32m    700\u001b[0m \u001b[38;5;28;01melif\u001b[39;00m meth \u001b[38;5;241m==\u001b[39m \u001b[38;5;124m'\u001b[39m\u001b[38;5;124mpowell\u001b[39m\u001b[38;5;124m'\u001b[39m:\n\u001b[0;32m    701\u001b[0m     res \u001b[38;5;241m=\u001b[39m _minimize_powell(fun, x0, args, callback, bounds, \u001b[38;5;241m*\u001b[39m\u001b[38;5;241m*\u001b[39moptions)\n",
      "File \u001b[1;32m~\\AppData\\Roaming\\Python\\Python39\\site-packages\\scipy\\optimize\\_optimize.py:975\u001b[0m, in \u001b[0;36m_minimize_neldermead\u001b[1;34m(func, x0, args, callback, maxiter, maxfev, disp, return_all, initial_simplex, xatol, fatol, adaptive, bounds, **unknown_options)\u001b[0m\n\u001b[0;32m    972\u001b[0m                     \u001b[38;5;28;01mif\u001b[39;00m bounds \u001b[38;5;129;01mis\u001b[39;00m \u001b[38;5;129;01mnot\u001b[39;00m \u001b[38;5;28;01mNone\u001b[39;00m:\n\u001b[0;32m    973\u001b[0m                         sim[j] \u001b[38;5;241m=\u001b[39m np\u001b[38;5;241m.\u001b[39mclip(\n\u001b[0;32m    974\u001b[0m                             sim[j], lower_bound, upper_bound)\n\u001b[1;32m--> 975\u001b[0m                     fsim[j] \u001b[38;5;241m=\u001b[39m \u001b[43mfunc\u001b[49m\u001b[43m(\u001b[49m\u001b[43msim\u001b[49m\u001b[43m[\u001b[49m\u001b[43mj\u001b[49m\u001b[43m]\u001b[49m\u001b[43m)\u001b[49m\n\u001b[0;32m    976\u001b[0m     iterations \u001b[38;5;241m+\u001b[39m\u001b[38;5;241m=\u001b[39m \u001b[38;5;241m1\u001b[39m\n\u001b[0;32m    977\u001b[0m \u001b[38;5;28;01mexcept\u001b[39;00m _MaxFuncCallError:\n",
      "File \u001b[1;32m~\\AppData\\Roaming\\Python\\Python39\\site-packages\\scipy\\optimize\\_optimize.py:620\u001b[0m, in \u001b[0;36m_wrap_scalar_function_maxfun_validation.<locals>.function_wrapper\u001b[1;34m(x, *wrapper_args)\u001b[0m\n\u001b[0;32m    618\u001b[0m ncalls[\u001b[38;5;241m0\u001b[39m] \u001b[38;5;241m+\u001b[39m\u001b[38;5;241m=\u001b[39m \u001b[38;5;241m1\u001b[39m\n\u001b[0;32m    619\u001b[0m \u001b[38;5;66;03m# A copy of x is sent to the user function (gh13740)\u001b[39;00m\n\u001b[1;32m--> 620\u001b[0m fx \u001b[38;5;241m=\u001b[39m \u001b[43mfunction\u001b[49m\u001b[43m(\u001b[49m\u001b[43mnp\u001b[49m\u001b[38;5;241;43m.\u001b[39;49m\u001b[43mcopy\u001b[49m\u001b[43m(\u001b[49m\u001b[43mx\u001b[49m\u001b[43m)\u001b[49m\u001b[43m,\u001b[49m\u001b[43m \u001b[49m\u001b[38;5;241;43m*\u001b[39;49m\u001b[43m(\u001b[49m\u001b[43mwrapper_args\u001b[49m\u001b[43m \u001b[49m\u001b[38;5;241;43m+\u001b[39;49m\u001b[43m \u001b[49m\u001b[43margs\u001b[49m\u001b[43m)\u001b[49m\u001b[43m)\u001b[49m\n\u001b[0;32m    621\u001b[0m \u001b[38;5;66;03m# Ideally, we'd like to a have a true scalar returned from f(x). For\u001b[39;00m\n\u001b[0;32m    622\u001b[0m \u001b[38;5;66;03m# backwards-compatibility, also allow np.array([1.3]),\u001b[39;00m\n\u001b[0;32m    623\u001b[0m \u001b[38;5;66;03m# np.array([[1.3]]) etc.\u001b[39;00m\n\u001b[0;32m    624\u001b[0m \u001b[38;5;28;01mif\u001b[39;00m \u001b[38;5;129;01mnot\u001b[39;00m np\u001b[38;5;241m.\u001b[39misscalar(fx):\n",
      "Cell \u001b[1;32mIn[22], line 2\u001b[0m, in \u001b[0;36mcost\u001b[1;34m(ksi)\u001b[0m\n\u001b[0;32m      1\u001b[0m \u001b[38;5;28;01mdef\u001b[39;00m \u001b[38;5;21mcost\u001b[39m(ksi):\n\u001b[1;32m----> 2\u001b[0m     _, r \u001b[38;5;241m=\u001b[39m \u001b[43mMajew\u001b[49m\u001b[43m(\u001b[49m\u001b[38;5;241;43m*\u001b[39;49m\u001b[43mksi\u001b[49m\u001b[43m,\u001b[49m\u001b[43m \u001b[49m\u001b[43mnb\u001b[49m\u001b[43m \u001b[49m\u001b[38;5;241;43m=\u001b[39;49m\u001b[43m \u001b[49m\u001b[38;5;241;43m100\u001b[39;49m\u001b[43m)\u001b[49m\n\u001b[0;32m      3\u001b[0m     cabm, V \u001b[38;5;241m=\u001b[39m compute_statistics(r, cov\u001b[38;5;241m=\u001b[39m\u001b[38;5;28;01mTrue\u001b[39;00m)\n\u001b[0;32m      4\u001b[0m     dc \u001b[38;5;241m=\u001b[39m c_thilde \u001b[38;5;241m-\u001b[39m cabm\n",
      "Cell \u001b[1;32mIn[19], line 23\u001b[0m, in \u001b[0;36mMajew\u001b[1;34m(gamma, alpha, kappa1, beta, Lambda, sigmav, length, nb)\u001b[0m\n\u001b[0;32m     19\u001b[0m     m[t] \u001b[38;5;241m=\u001b[39m (\u001b[38;5;241m1\u001b[39m\u001b[38;5;241m-\u001b[39malpha)\u001b[38;5;241m*\u001b[39mm[t\u001b[38;5;241m-\u001b[39m\u001b[38;5;241m1\u001b[39m] \u001b[38;5;241m+\u001b[39m alpha\u001b[38;5;241m*\u001b[39m(p[t]\u001b[38;5;241m-\u001b[39mp[t\u001b[38;5;241m-\u001b[39m\u001b[38;5;241m1\u001b[39m])\n\u001b[0;32m     21\u001b[0m     p[t\u001b[38;5;241m+\u001b[39m\u001b[38;5;241m1\u001b[39m] \u001b[38;5;241m=\u001b[39m p[t] \u001b[38;5;241m+\u001b[39m kappa1\u001b[38;5;241m*\u001b[39m(v[t]\u001b[38;5;241m-\u001b[39mp[t]) \u001b[38;5;241m+\u001b[39m beta\u001b[38;5;241m*\u001b[39mnp\u001b[38;5;241m.\u001b[39mtanh(gamma\u001b[38;5;241m*\u001b[39mm[t]) \u001b[38;5;241m+\u001b[39m Epsilon[t\u001b[38;5;241m+\u001b[39m\u001b[38;5;241m1\u001b[39m]\n\u001b[1;32m---> 23\u001b[0m     \u001b[43mr\u001b[49m\u001b[43m[\u001b[49m\u001b[43mt\u001b[49m\u001b[38;5;241;43m+\u001b[39;49m\u001b[38;5;241;43m1\u001b[39;49m\u001b[43m]\u001b[49m \u001b[38;5;241m=\u001b[39m p[t\u001b[38;5;241m+\u001b[39m\u001b[38;5;241m1\u001b[39m] \u001b[38;5;241m-\u001b[39m p[t]\n\u001b[0;32m     25\u001b[0m \u001b[38;5;28;01mreturn\u001b[39;00m p,r\n",
      "\u001b[1;31mKeyboardInterrupt\u001b[0m: "
     ]
    }
   ],
   "source": [
    "options = {\n",
    "    'maxiter': 10000,     # Maximum number of iterations        # Precision goal for the function value\n",
    "    'tol': 1e-19,         # Precision goal for the gradient\n",
    "    'disp': True          # Display convergence messages\n",
    "}\n",
    "init = (0.20,1/15,0.40,20.7,0.4,0.2)\n",
    "res = minimize(cost, init, method='Nelder-Mead', options=options)"
   ]
  },
  {
   "cell_type": "code",
   "execution_count": null,
   "metadata": {},
   "outputs": [],
   "source": [
    "res"
   ]
  },
  {
   "cell_type": "code",
   "execution_count": null,
   "metadata": {},
   "outputs": [],
   "source": [
    "def Majew2(gamma, alpha, kappa1, kappa3, beta, Lambda, sigmav):\n",
    "    \n",
    "    Epsilon=np.random.normal(0, sigmav**2, (length,nb))\n",
    "    v=np.zeros((length,nb))\n",
    "    m=np.zeros((length,nb))\n",
    "    \n",
    "    # We initialize the different functions we will need\n",
    "    \n",
    "    p=np.zeros((length,nb))\n",
    "    r=np.zeros((length,nb))\n",
    "    \n",
    "    # We initialize the price\n",
    "    \n",
    "    for t in range(1,length-1):\n",
    "        \n",
    "        v[t] = (1-Lambda)*v[t-1] + Lambda*p[t]\n",
    "        \n",
    "        m[t] = (1-alpha)*m[t-1] + alpha*(p[t]-p[t-1])\n",
    "        \n",
    "        p[t+1] = p[t] + kappa1*(v[t]-p[t]) + kappa3*(v[t]-p[t]) + beta*np.tanh(gamma*m[t]) + Epsilon[t+1]\n",
    "        \n",
    "        r[t+1] = p[t+1] - p[t]\n",
    "    \n",
    "    return p,r"
   ]
  }
 ],
 "metadata": {
  "kernelspec": {
   "display_name": "Python 3 (ipykernel)",
   "language": "python",
   "name": "python3"
  },
  "language_info": {
   "codemirror_mode": {
    "name": "ipython",
    "version": 3
   },
   "file_extension": ".py",
   "mimetype": "text/x-python",
   "name": "python",
   "nbconvert_exporter": "python",
   "pygments_lexer": "ipython3",
   "version": "3.9.6"
  }
 },
 "nbformat": 4,
 "nbformat_minor": 4
}
