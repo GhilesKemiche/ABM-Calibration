{
 "cells": [
  {
   "cell_type": "code",
   "execution_count": 28,
   "metadata": {},
   "outputs": [],
   "source": [
    "import pandas as pd\n",
    "from statsmodels.distributions.empirical_distribution import ECDF\n",
    "import matplotlib.pyplot as plt\n",
    "import numpy as np\n",
    "investors=pd.read_csv('BBVA_Investors.csv')\n",
    "FDR=pd.read_csv('BBVA_Network_FDR.csv')\n",
    "Bonferroni=pd.read_csv('BBVA_Network_Bonferroni.csv')\n",
    "M=pd.read_csv('M.csv')"
   ]
  },
  {
   "cell_type": "code",
   "execution_count": 25,
   "metadata": {},
   "outputs": [
    {
     "name": "stdout",
     "output_type": "stream",
     "text": [
      "3154698.0\n"
     ]
    },
    {
     "data": {
      "text/html": [
       "<div>\n",
       "<style scoped>\n",
       "    .dataframe tbody tr th:only-of-type {\n",
       "        vertical-align: middle;\n",
       "    }\n",
       "\n",
       "    .dataframe tbody tr th {\n",
       "        vertical-align: top;\n",
       "    }\n",
       "\n",
       "    .dataframe thead th {\n",
       "        text-align: right;\n",
       "    }\n",
       "</style>\n",
       "<table border=\"1\" class=\"dataframe\">\n",
       "  <thead>\n",
       "    <tr style=\"text-align: right;\">\n",
       "      <th></th>\n",
       "      <th>date</th>\n",
       "      <th>position</th>\n",
       "    </tr>\n",
       "  </thead>\n",
       "  <tbody>\n",
       "    <tr>\n",
       "      <th>0</th>\n",
       "      <td>2000-01-03</td>\n",
       "      <td>NaN</td>\n",
       "    </tr>\n",
       "    <tr>\n",
       "      <th>1</th>\n",
       "      <td>2000-01-04</td>\n",
       "      <td>0.0</td>\n",
       "    </tr>\n",
       "    <tr>\n",
       "      <th>2</th>\n",
       "      <td>2000-01-05</td>\n",
       "      <td>0.0</td>\n",
       "    </tr>\n",
       "    <tr>\n",
       "      <th>3</th>\n",
       "      <td>2000-01-07</td>\n",
       "      <td>0.0</td>\n",
       "    </tr>\n",
       "    <tr>\n",
       "      <th>4</th>\n",
       "      <td>2000-01-10</td>\n",
       "      <td>0.0</td>\n",
       "    </tr>\n",
       "    <tr>\n",
       "      <th>...</th>\n",
       "      <td>...</td>\n",
       "      <td>...</td>\n",
       "    </tr>\n",
       "    <tr>\n",
       "      <th>289438</th>\n",
       "      <td>2007-10-10</td>\n",
       "      <td>0.0</td>\n",
       "    </tr>\n",
       "    <tr>\n",
       "      <th>289439</th>\n",
       "      <td>2007-10-11</td>\n",
       "      <td>0.0</td>\n",
       "    </tr>\n",
       "    <tr>\n",
       "      <th>289440</th>\n",
       "      <td>2007-10-12</td>\n",
       "      <td>0.0</td>\n",
       "    </tr>\n",
       "    <tr>\n",
       "      <th>289441</th>\n",
       "      <td>2007-10-15</td>\n",
       "      <td>0.0</td>\n",
       "    </tr>\n",
       "    <tr>\n",
       "      <th>289442</th>\n",
       "      <td>2007-10-16</td>\n",
       "      <td>0.0</td>\n",
       "    </tr>\n",
       "  </tbody>\n",
       "</table>\n",
       "<p>289443 rows × 2 columns</p>\n",
       "</div>"
      ],
      "text/plain": [
       "              date  position\n",
       "0       2000-01-03       NaN\n",
       "1       2000-01-04       0.0\n",
       "2       2000-01-05       0.0\n",
       "3       2000-01-07       0.0\n",
       "4       2000-01-10       0.0\n",
       "...            ...       ...\n",
       "289438  2007-10-10       0.0\n",
       "289439  2007-10-11       0.0\n",
       "289440  2007-10-12       0.0\n",
       "289441  2007-10-15       0.0\n",
       "289442  2007-10-16       0.0\n",
       "\n",
       "[289443 rows x 2 columns]"
      ]
     },
     "execution_count": 25,
     "metadata": {},
     "output_type": "execute_result"
    }
   ],
   "source": [
    "import pandas as pd\n",
    "\n",
    "df = pd.read_csv('BBVA_Investors.csv', usecols=[\"investor_id\", \"position\", \"date\"])\n",
    "\n",
    "data = df[[\"investor_id\", \"position\"]]\n",
    "data=pd.concat([df['date'],data.groupby(\"investor_id\")[\"position\"].diff()], axis=1)\n",
    "data"
   ]
  },
  {
   "cell_type": "code",
   "execution_count": 45,
   "metadata": {},
   "outputs": [
    {
     "data": {
      "image/png": "[encoded data removed]",
      "text/plain": [
       "<Figure size 640x480 with 1 Axes>"
      ]
     },
     "metadata": {},
     "output_type": "display_data"
    }
   ],
   "source": [
    "\n",
    "\n",
    "# Calculate the 1-ECDF for the investments\n",
    "\n",
    "ecdf=ECDF(M.iloc[:,1])\n",
    "plt.plot(np.linspace(1e4,max(M.iloc[:,1]),10000000),1-ecdf(np.linspace(1e4,max(M.iloc[:,1]),10000000)))\n",
    "plt.xscale('log')\n",
    "plt.yscale('log')\n",
    "plt.xlabel('Investment (log scale)')\n",
    "plt.ylabel('1 - ECDF (log scale)')\n",
    "plt.title('1 - ECDF of Investor Investments')\n",
    "plt.grid(True)\n",
    "plt.show()\n",
    "\n",
    "\n"
   ]
  },
  {
   "cell_type": "code",
   "execution_count": 46,
   "metadata": {},
   "outputs": [],
   "source": [
    "import powerlaw"
   ]
  },
  {
   "cell_type": "code",
   "execution_count": 47,
   "metadata": {},
   "outputs": [
    {
     "name": "stdout",
     "output_type": "stream",
     "text": [
      "Calculating best minimal value for power law fit\n",
      "3.925160491748701%\n",
      "0.006802721088435382\n"
     ]
    },
    {
     "name": "stderr",
     "output_type": "stream",
     "text": [
      "Values less than or equal to 0 in data. Throwing out 0 or negative values\n"
     ]
    }
   ],
   "source": [
    "fit =powerlaw.Fit(1-ecdf(np.linspace(1e4,max(M.iloc[:,1]))))\n",
    "print(fit.power_law.alpha)\n",
    "print(fit.power_law.xmin)"
   ]
  },
  {
   "cell_type": "code",
   "execution_count": 50,
   "metadata": {},
   "outputs": [
    {
     "name": "stderr",
     "output_type": "stream",
     "text": [
      "C:\\Users\\Périg\\AppData\\Roaming\\Python\\Python39\\site-packages\\numpy\\lib\\function_base.py:2897: RuntimeWarning: invalid value encountered in divide\n",
      "  c /= stddev[:, None]\n",
      "C:\\Users\\Périg\\AppData\\Roaming\\Python\\Python39\\site-packages\\numpy\\lib\\function_base.py:2898: RuntimeWarning: invalid value encountered in divide\n",
      "  c /= stddev[None, :]\n"
     ]
    },
    {
     "data": {
      "text/plain": [
       "investor_id\n",
       "704     contrarian\n",
       "744     contrarian\n",
       "1312    contrarian\n",
       "2236    contrarian\n",
       "2300    contrarian\n",
       "dtype: object"
      ]
     },
     "execution_count": 50,
     "metadata": {},
     "output_type": "execute_result"
    }
   ],
   "source": [
    "# Calculer le rendement quotidien\n",
    "prices_data=pd.read_csv('BBVA_Prices.csv')\n",
    "prices_data['return'] = prices_data['close'].pct_change()\n",
    "investors_data=investors\n",
    "\n",
    "# Joindre les données des investisseurs avec les rendements quotidiens\n",
    "investors_data = investors_data.merge(prices_data[['date', 'return']], on='date', how='left')\n",
    "\n",
    "# Calculer le changement d'inventaire pour chaque investisseur\n",
    "investors_data['inventory_change'] = investors_data.groupby('investor_id')['position'].diff()\n",
    "\n",
    "# Supprimer les lignes avec des valeurs manquantes\n",
    "investors_data = investors_data.dropna()\n",
    "\n",
    "# Calculer la corrélation pour chaque investisseur\n",
    "investor_correlation = investors_data.groupby('investor_id').apply(lambda x: x['inventory_change'].corr(x['return']))\n",
    "\n",
    "# Classer les investisseurs\n",
    "def classify_investor(correlation):\n",
    "    if correlation > 0:\n",
    "        return 'trend-following'\n",
    "    elif correlation < 0:\n",
    "        return 'contrarian'\n",
    "    else:\n",
    "        return 'neutral'\n",
    "\n",
    "investor_classification = investor_correlation.apply(classify_investor)\n",
    "\n",
    "# Afficher la classification\n",
    "investor_classification.head()"
   ]
  }
 ],
 "metadata": {
  "kernelspec": {
   "display_name": "Python 3",
   "language": "python",
   "name": "python3"
  },
  "language_info": {
   "codemirror_mode": {
    "name": "ipython",
    "version": 3
   },
   "file_extension": ".py",
   "mimetype": "text/x-python",
   "name": "python",
   "nbconvert_exporter": "python",
   "pygments_lexer": "ipython3",
   "version": "3.9.6"
  }
 },
 "nbformat": 4,
 "nbformat_minor": 2
}
